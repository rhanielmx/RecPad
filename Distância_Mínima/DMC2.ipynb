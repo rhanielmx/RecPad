{
 "cells": [
  {
   "cell_type": "code",
   "execution_count": 1,
   "metadata": {},
   "outputs": [],
   "source": [
    "import numpy as np\n",
    "import pandas as pd\n",
    "import random\n",
    "from sklearn.metrics import confusion_matrix\n",
    "from sklearn.preprocessing import StandardScaler\n",
    "import pandas as pd\n",
    "import sklearn.metrics as metrics\n",
    "import matplotlib.pyplot as plt"
   ]
  },
  {
   "cell_type": "code",
   "execution_count": 2,
   "metadata": {},
   "outputs": [],
   "source": [
    "def splitDataset(dataset, trainRatio):\n",
    "    trainSize = int(len(dataset) * trainRatio)\n",
    "    trainSet = []\n",
    "    copy = list(dataset.iloc[:,:].values)\n",
    "    while len(trainSet) < trainSize:\n",
    "        index = random.randrange(len(copy))\n",
    "        trainSet.append(copy.pop(index))\n",
    "    return [np.array(trainSet), np.array(copy)]\n",
    "\n",
    "def calc_centroids(dataset, labels):\n",
    "    dataset=pd.DataFrame(dataset)\n",
    "    centroids=[]\n",
    "    for label in labels:\n",
    "        centroids.append((list((dataset[dataset['Target']==label].iloc[:,:-1]).sum()/len(dataset[dataset['Target']==label])),label))\n",
    "    return(centroids)\n",
    "\n",
    "def euc_distance(lista, x):\n",
    "    if(len(lista) == len(x)):\n",
    "        n=len(lista)-1\n",
    "    else:\n",
    "        return('Os conjuntos devem possuir a mesma dimensão!')\n",
    "    dist = 0\n",
    "    for i in range(n):\n",
    "        dist += (lista[i]-x[i])**2\n",
    "    return(np.sqrt(dist))\n",
    "\n",
    "def calc_distances(centroids, amostra):\n",
    "    distances=[]\n",
    "    for i in range(len(centroids)):\n",
    "        dist = euc_distance(centroids[i][0],amostra)\n",
    "        distances.append((dist,centroids[i][-1]))\n",
    "    return(distances)\n",
    "\n",
    "def att_class(centroids,amostra):\n",
    "    distances=calc_distances(centroids,amostra)\n",
    "    distances.sort()\n",
    "    return(distances[0][1])\n",
    "\n",
    "def make_pred(dataset,amostras):\n",
    "    labels = list(dataset.iloc[:,-1].unique())\n",
    "    centroids=calc_centroids(dataset, labels)\n",
    "    preds=[]\n",
    "    for amostra in amostras:\n",
    "        preds.append(att_class(centroids, amostra))\n",
    "    return(preds)"
   ]
  },
  {
   "cell_type": "code",
   "execution_count": 3,
   "metadata": {},
   "outputs": [],
   "source": [
    "def prepare_to_remove(dataset):\n",
    "    \"\"\"\n",
    "    Calcula algumas estatísticas para a remoção de outliers do dataset.\n",
    "    \n",
    "    Input\n",
    "    ----------\n",
    "    dataset: \n",
    "    Dataset a ser preparado para remoção de outliers.\n",
    "    \n",
    "    Output\n",
    "    ----------\n",
    "    cols:\n",
    "    Lista contendo os nomes das colunas dos datasets.\n",
    "  \n",
    "    means:\n",
    "    Lista contendo as médias das colunas dos datasets.\n",
    "  \n",
    "    stds:\n",
    "    Lista contendo os desios padrões das colunas dos datasets.\n",
    "  \n",
    "    \"\"\"\n",
    "    cols, means, stds = [],[],[]\n",
    "    for col in dataset.columns:\n",
    "        try:\n",
    "            cols.append(col)\n",
    "            means.append(dataset[col].mean())\n",
    "            stds.append(dataset[col].std())\n",
    "        except TypeError:\n",
    "            means.append(np.nan)\n",
    "            stds.append(np.nan)\n",
    "            print(f'Coluna {col} possui valores em formato não númerico!')\n",
    "    return(cols, means, stds)\n",
    "\n",
    "def remove_outliers(dataset):\n",
    "    \"\"\"\n",
    "    Soma todos os elementos de um vetor, exceto o que está na posição n.\n",
    "    \n",
    "    \n",
    "    Input\n",
    "    ----------\n",
    "    dataset: \n",
    "    Dataset para remoção de outliers.\n",
    "    \n",
    "    Output\n",
    "    ----------\n",
    "    dataset:\n",
    "    O dataset da entrada, agora com os outliers removidos\n",
    "    \n",
    "    \n",
    "    Obs.: São consideradas outliers da variável x, observações além do intervalo: mean(x) ± 2*std(x).\n",
    "    \"\"\"\n",
    "    cols, means, stds = prepare_to_remove(dataset)\n",
    "    k=0\n",
    "    for col in cols:\n",
    "        dataset = dataset.loc[(dataset[col] > means[k]-2*stds[k]) & (dataset[col] < means[k]+2*stds[k])]\n",
    "        k=k+1\n",
    "    return(dataset)\n",
    "\n",
    "def formata_matriz(M):\n",
    "    m = len(M) \n",
    "    n = len(M[0])\n",
    "    s = ''\n",
    "    for i in range(m):\n",
    "        for j in range(n):\n",
    "            s += f'{M[i][j]} '\n",
    "        s += '\\n'\n",
    "    return s"
   ]
  },
  {
   "cell_type": "code",
   "execution_count": 4,
   "metadata": {},
   "outputs": [],
   "source": [
    "sc = StandardScaler()\n",
    "path='https://raw.githubusercontent.com/rhanielmx/RecPad/master/messidor_features.csv'\n",
    "trainRatio=0.7\n",
    "n_rounds=100"
   ]
  },
  {
   "cell_type": "code",
   "execution_count": 5,
   "metadata": {},
   "outputs": [],
   "source": [
    "def before_feature_selection():    \n",
    "    for _ in range(n_rounds):\n",
    "        data=pd.read_csv(path)\n",
    "        data=remove_outliers(data)\n",
    "        data.iloc[:,:-1]=sc.fit_transform(data.iloc[:,:-1])\n",
    "        \n",
    "        train_set, test_set = splitDataset(dataset=data,trainRatio=trainRatio)\n",
    "        X_test=[test_set[i][:-1] for i in range(test_set.shape[0])]\n",
    "        y_test=[test_set[i][-1] for i in range(test_set.shape[0])]\n",
    "\n",
    "        preds=make_pred(data,np.array(X_test))\n",
    "        \n",
    "        cm = confusion_matrix(y_test, preds)\n",
    "        sr = 100*(cm.diagonal().sum()/cm.sum())\n",
    "        confusion_matrixes.append(cm)\n",
    "        accuracys.append(sr)        \n",
    "        \n",
    "        class0_success=100*cm[0][0]/(cm[0][0]+cm[0][1])\n",
    "        class1_success=100*cm[1][1]/(cm[1][0]+cm[1][1])\n",
    "         \n",
    "        class0_successes.append(class0_success)\n",
    "        class1_successes.append(class1_success)\n",
    "    \n",
    "        if ((_+1)%(int(n_rounds/10))==0):\n",
    "            print(f'{(_+1)*(100/n_rounds):05.2f}% concluído!')"
   ]
  },
  {
   "cell_type": "code",
   "execution_count": 6,
   "metadata": {},
   "outputs": [
    {
     "name": "stdout",
     "output_type": "stream",
     "text": [
      "10.00% concluído!\n",
      "20.00% concluído!\n",
      "30.00% concluído!\n",
      "40.00% concluído!\n",
      "50.00% concluído!\n",
      "60.00% concluído!\n",
      "70.00% concluído!\n",
      "80.00% concluído!\n",
      "90.00% concluído!\n",
      "100.00% concluído!\n",
      "Wall time: 1min 2s\n"
     ]
    }
   ],
   "source": [
    "accuracys = []\n",
    "confusion_matrixes = []\n",
    "class0_successes,class1_successes=[],[]\n",
    "\n",
    "%time before_feature_selection()"
   ]
  },
  {
   "cell_type": "code",
   "execution_count": 7,
   "metadata": {},
   "outputs": [],
   "source": [
    "statistics=pd.DataFrame(data={'Estatísticas':[np.mean(accuracys),np.min(accuracys),np.max(accuracys),np.median(accuracys),np.std(accuracys,ddof=1)]},index=['Média','Mín','Máx','Mediana','Desvio P.'])\n",
    "avg_sucess=pd.DataFrame(data={'Sucesso Médio(%)':[np.mean(class0_successes),np.mean(class1_successes)]},index=['Classe 0', 'Classe 1'])"
   ]
  },
  {
   "cell_type": "code",
   "execution_count": 8,
   "metadata": {},
   "outputs": [
    {
     "name": "stdout",
     "output_type": "stream",
     "text": [
      "                            Average Importance(%)\n",
      "Exudates_Detection_1                     9.278101\n",
      "MA_Detection_alpha-0.5                   8.420561\n",
      "Exudates_Detection_2                     8.074670\n",
      "Macula_OpticDisc_Distance                7.520618\n",
      "Exudates_Detection_3                     7.434315\n",
      "OpticDisc_Diameter                       7.346632\n",
      "Exudates_Detection_4                     6.925790\n",
      "MA_Detection_alpha-0.6                   6.115578\n",
      "MA_Detection_alpha-0.9                   5.543423\n",
      "MA_Detection_alpha-1.0                   5.472461\n",
      "MA_Detection_alpha-0.7                   5.443462\n",
      "MA_Detection_alpha-0.8                   5.439992\n",
      "Exudates_Detection_5                     4.701270\n",
      "Exudates_Detection_7                     4.433754\n",
      "Exudates_Detection_6                     3.688693\n",
      "Exudates_Detection_8                     3.204980\n",
      "AM/FM-based classification               0.955702\n",
      "Pre-Screening                            0.000000\n",
      "Quality_Assessment                       0.000000\n"
     ]
    }
   ],
   "source": [
    "data=pd.read_csv(path)\n",
    "data=remove_outliers(data)\n",
    "feature_importances=[]\n",
    "cols_names=[]\n",
    "for _ in range(50):\n",
    "    train_set, test_set = splitDataset(dataset=data,trainRatio=trainRatio)\n",
    "    X_train,y_train=[train_set[i][:-1] for i in range(train_set.shape[0])],[train_set[i][-1] for i in range(train_set.shape[0])]\n",
    "    X_test,y_test=[test_set[i][:-1] for i in range(test_set.shape[0])],[test_set[i][-1] for i in range(test_set.shape[0])]\n",
    "\n",
    "    from sklearn.ensemble import RandomForestClassifier \n",
    "    rf = RandomForestClassifier() \n",
    "    rf.fit(X_train, y_train) \n",
    "\n",
    "    feature_importances.append(rf.feature_importances_)\n",
    "\n",
    "avg_feature_importances=sum(feature_importances)/len(feature_importances)\n",
    "avg_feature_importances=pd.DataFrame(avg_feature_importances*100,columns=['Average Importance(%)'],index=list(data.columns[:-1]))\n",
    "\n",
    "print(avg_feature_importances.sort_values('Average Importance(%)',ascending=False))\n",
    "cols_to_use=[avg_feature_importances.index[i] for i in range(len(avg_feature_importances.index)) if (avg_feature_importances.iloc[i,0]>=(avg_feature_importances).mean()[0])==True]\n",
    "cols_to_use.append('Target')\n",
    "\n",
    "data=pd.read_csv(filepath_or_buffer=path,usecols=cols_to_use)\n",
    "data=remove_outliers(data)\n",
    "\n",
    "corr_matrix = data.iloc[:,:-1].corr().abs()\n",
    "upper = corr_matrix.where(np.triu(np.ones(corr_matrix.shape), k=1).astype(np.bool))\n",
    "to_remove = [column for column in upper.columns if any(upper[column] > 0.95)]\n",
    "[cols_to_use.remove(col) for col in to_remove];"
   ]
  },
  {
   "cell_type": "code",
   "execution_count": 9,
   "metadata": {},
   "outputs": [],
   "source": [
    "sc = StandardScaler()\n",
    "def main():    \n",
    "    for _ in range(n_rounds):\n",
    "        data=pd.read_csv(filepath_or_buffer=path,usecols=cols_to_use)\n",
    "        data=remove_outliers(data)\n",
    "        data.iloc[:,:-1]=sc.fit_transform(data.iloc[:,:-1])\n",
    "        \n",
    "        train_set, test_set = splitDataset(dataset=data,trainRatio=trainRatio)\n",
    "        X_test=[test_set[i][:-1] for i in range(test_set.shape[0])]\n",
    "        y_test=[test_set[i][-1] for i in range(test_set.shape[0])]\n",
    "\n",
    "        preds=make_pred(data,np.array(X_test))\n",
    "        \n",
    "        cm = confusion_matrix(y_test, preds)\n",
    "        sr = 100*(cm.diagonal().sum()/cm.sum())\n",
    "        new_confusion_matrixes.append(cm)\n",
    "        new_accuracys.append(sr)        \n",
    "        \n",
    "        class0_success=100*cm[0][0]/(cm[0][0]+cm[0][1])\n",
    "        class1_success=100*cm[1][1]/(cm[1][0]+cm[1][1])\n",
    "         \n",
    "        new_class0_successes.append(class0_success)\n",
    "        new_class1_successes.append(class1_success)\n",
    "    \n",
    "        if ((_+1)%(int(n_rounds/10))==0):\n",
    "            print(f'{(_+1)*(100/n_rounds):05.2f}% concluído!')"
   ]
  },
  {
   "cell_type": "code",
   "execution_count": 10,
   "metadata": {
    "scrolled": false
   },
   "outputs": [
    {
     "name": "stdout",
     "output_type": "stream",
     "text": [
      "10.00% concluído!\n",
      "20.00% concluído!\n",
      "30.00% concluído!\n",
      "40.00% concluído!\n",
      "50.00% concluído!\n",
      "60.00% concluído!\n",
      "70.00% concluído!\n",
      "80.00% concluído!\n",
      "90.00% concluído!\n",
      "100.00% concluído!\n",
      "Wall time: 51 s\n"
     ]
    }
   ],
   "source": [
    "new_accuracys = []\n",
    "new_confusion_matrixes = []\n",
    "new_class0_successes,new_class1_successes=[],[]\n",
    "\n",
    "%time main()"
   ]
  },
  {
   "cell_type": "code",
   "execution_count": 11,
   "metadata": {},
   "outputs": [],
   "source": [
    "new_statistics=pd.DataFrame(data={'Estatísticas':[np.mean(new_accuracys),np.min(new_accuracys),np.max(new_accuracys),np.median(new_accuracys),np.std(new_accuracys,ddof=1)]},index=['Média','Mín','Máx','Mediana','Desvio P.'])\n",
    "new_avg_sucess=pd.DataFrame(data={'Sucesso Médio(%)':[np.mean(new_class0_successes),np.mean(new_class1_successes)]},index=['Classe 0', 'Classe 1'])"
   ]
  },
  {
   "cell_type": "code",
   "execution_count": 12,
   "metadata": {},
   "outputs": [
    {
     "data": {
      "text/html": [
       "<div>\n",
       "<style scoped>\n",
       "    .dataframe tbody tr th:only-of-type {\n",
       "        vertical-align: middle;\n",
       "    }\n",
       "\n",
       "    .dataframe tbody tr th {\n",
       "        vertical-align: top;\n",
       "    }\n",
       "\n",
       "    .dataframe thead th {\n",
       "        text-align: right;\n",
       "    }\n",
       "</style>\n",
       "<table border=\"1\" class=\"dataframe\">\n",
       "  <thead>\n",
       "    <tr style=\"text-align: right;\">\n",
       "      <th></th>\n",
       "      <th>Estatísticas</th>\n",
       "      <th>Estatísticas</th>\n",
       "    </tr>\n",
       "  </thead>\n",
       "  <tbody>\n",
       "    <tr>\n",
       "      <th>Média</th>\n",
       "      <td>57.485830</td>\n",
       "      <td>57.923345</td>\n",
       "    </tr>\n",
       "    <tr>\n",
       "      <th>Mín</th>\n",
       "      <td>50.202429</td>\n",
       "      <td>52.613240</td>\n",
       "    </tr>\n",
       "    <tr>\n",
       "      <th>Máx</th>\n",
       "      <td>65.182186</td>\n",
       "      <td>63.414634</td>\n",
       "    </tr>\n",
       "    <tr>\n",
       "      <th>Mediana</th>\n",
       "      <td>57.085020</td>\n",
       "      <td>58.013937</td>\n",
       "    </tr>\n",
       "    <tr>\n",
       "      <th>Desvio P.</th>\n",
       "      <td>2.488735</td>\n",
       "      <td>2.331375</td>\n",
       "    </tr>\n",
       "  </tbody>\n",
       "</table>\n",
       "</div>"
      ],
      "text/plain": [
       "           Estatísticas  Estatísticas\n",
       "Média         57.485830     57.923345\n",
       "Mín           50.202429     52.613240\n",
       "Máx           65.182186     63.414634\n",
       "Mediana       57.085020     58.013937\n",
       "Desvio P.      2.488735      2.331375"
      ]
     },
     "execution_count": 12,
     "metadata": {},
     "output_type": "execute_result"
    }
   ],
   "source": [
    "pd.concat([statistics,new_statistics],axis=1)"
   ]
  },
  {
   "cell_type": "code",
   "execution_count": 13,
   "metadata": {},
   "outputs": [
    {
     "data": {
      "text/html": [
       "<div>\n",
       "<style scoped>\n",
       "    .dataframe tbody tr th:only-of-type {\n",
       "        vertical-align: middle;\n",
       "    }\n",
       "\n",
       "    .dataframe tbody tr th {\n",
       "        vertical-align: top;\n",
       "    }\n",
       "\n",
       "    .dataframe thead th {\n",
       "        text-align: right;\n",
       "    }\n",
       "</style>\n",
       "<table border=\"1\" class=\"dataframe\">\n",
       "  <thead>\n",
       "    <tr style=\"text-align: right;\">\n",
       "      <th></th>\n",
       "      <th>Sucesso Médio(%)</th>\n",
       "      <th>Sucesso Médio(%)</th>\n",
       "    </tr>\n",
       "  </thead>\n",
       "  <tbody>\n",
       "    <tr>\n",
       "      <th>Classe 0</th>\n",
       "      <td>58.092531</td>\n",
       "      <td>56.848921</td>\n",
       "    </tr>\n",
       "    <tr>\n",
       "      <th>Classe 1</th>\n",
       "      <td>56.813320</td>\n",
       "      <td>58.953919</td>\n",
       "    </tr>\n",
       "  </tbody>\n",
       "</table>\n",
       "</div>"
      ],
      "text/plain": [
       "          Sucesso Médio(%)  Sucesso Médio(%)\n",
       "Classe 0         58.092531         56.848921\n",
       "Classe 1         56.813320         58.953919"
      ]
     },
     "execution_count": 13,
     "metadata": {},
     "output_type": "execute_result"
    }
   ],
   "source": [
    "pd.concat([avg_sucess,new_avg_sucess],axis=1)"
   ]
  },
  {
   "cell_type": "code",
   "execution_count": 14,
   "metadata": {},
   "outputs": [],
   "source": [
    "worst_accuracy=new_accuracys.index(np.min(new_accuracys))\n",
    "best_accuracy=new_accuracys.index(np.max(new_accuracys))\n",
    "worst_matrix=new_confusion_matrixes[worst_accuracy]\n",
    "best_matrix=new_confusion_matrixes[best_accuracy]"
   ]
  },
  {
   "cell_type": "code",
   "execution_count": 15,
   "metadata": {},
   "outputs": [
    {
     "name": "stdout",
     "output_type": "stream",
     "text": [
      "Matriz de confusão para o pior caso:\n",
      "68 70 \n",
      "66 83 \n",
      "\n",
      "Matriz de confusão para o melhor caso:\n",
      "88 63 \n",
      "42 94 \n",
      "\n"
     ]
    }
   ],
   "source": [
    "print(f'Matriz de confusão para o pior caso:\\n{formata_matriz(worst_matrix)}\\nMatriz de confusão para o melhor caso:\\n{formata_matriz(best_matrix)}')"
   ]
  },
  {
   "cell_type": "code",
   "execution_count": 16,
   "metadata": {},
   "outputs": [],
   "source": [
    "data=pd.read_csv(filepath_or_buffer=path,usecols=cols_to_use)\n",
    "data=remove_outliers(data)\n",
    "data.iloc[:,:-1]=sc.fit_transform(data.iloc[:,:-1])\n",
    "\n",
    "X_test=[test_set[i][:-1] for i in range(test_set.shape[0])]\n",
    "y_test=[test_set[i][-1] for i in range(test_set.shape[0])]\n",
    "scores=pd.read_csv('https://raw.githubusercontent.com/rhanielmx/RecPad/master/scores1.csv',names='Scores').iloc[:,0].values"
   ]
  },
  {
   "cell_type": "code",
   "execution_count": 17,
   "metadata": {},
   "outputs": [
    {
     "data": {
      "image/png": "[encoded data removed]",
      "text/plain": [
       "<matplotlib.figure.Figure at 0x1602cb92160>"
      ]
     },
     "metadata": {},
     "output_type": "display_data"
    }
   ],
   "source": [
    "fpr, tpr, threshold = metrics.roc_curve(y_test, scores)\n",
    "roc_auc = metrics.auc(fpr, tpr)\n",
    "\n",
    "plt.title('Receiver Operating Characteristic')\n",
    "plt.plot(fpr, tpr, 'b', label = 'AUC = %0.2f' % roc_auc)\n",
    "plt.legend(loc = 'lower right')\n",
    "plt.plot([0, 1], [0, 1],'r--')\n",
    "plt.xlim([0, 1])\n",
    "plt.ylim([0, 1])\n",
    "plt.ylabel('True Positive Rate')\n",
    "plt.xlabel('False Positive Rate')\n",
    "plt.show()"
   ]
  }
 ],
 "metadata": {
  "kernelspec": {
   "display_name": "Python 3",
   "language": "python",
   "name": "python3"
  },
  "language_info": {
   "codemirror_mode": {
    "name": "ipython",
    "version": 3
   },
   "file_extension": ".py",
   "mimetype": "text/x-python",
   "name": "python",
   "nbconvert_exporter": "python",
   "pygments_lexer": "ipython3",
   "version": "3.6.4"
  }
 },
 "nbformat": 4,
 "nbformat_minor": 2
}
