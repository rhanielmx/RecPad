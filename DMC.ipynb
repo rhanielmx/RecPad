{
 "cells": [
  {
   "cell_type": "code",
   "execution_count": 1,
   "metadata": {},
   "outputs": [],
   "source": [
    "import pandas as pd\n",
    "import numpy as np\n",
    "import random"
   ]
  },
  {
   "cell_type": "code",
   "execution_count": 2,
   "metadata": {},
   "outputs": [],
   "source": [
    "def splitDataset(dataset, splitRatio):\n",
    "    trainSize = int(len(dataset) * splitRatio)\n",
    "    trainSet = []\n",
    "    copy = list(dataset.iloc[:,:].values)\n",
    "    while len(trainSet) < trainSize:\n",
    "        index = random.randrange(len(copy))\n",
    "        trainSet.append(copy.pop(index))\n",
    "    return [np.array(trainSet), np.array(copy)]\n",
    "\n",
    "def calc_centroids(dataset, labels):\n",
    "    dataset=np.array(dataset)\n",
    "    m=np.zeros(dataset.shape[1]-1)\n",
    "    centroids=[]\n",
    "    for label in labels:\n",
    "        N=0\n",
    "        for i in range(dataset.shape[0]):\n",
    "            if dataset[i][-1]==label:\n",
    "                m+=dataset[i][:-1]\n",
    "                N+=1\n",
    "        centroids.append((m/N,label))\n",
    "    return(centroids)\n",
    "\n",
    "def euc_distance(lista, x):\n",
    "    if(len(lista) == len(x)):\n",
    "        n=len(lista)-1\n",
    "    else:\n",
    "        return('Os conjuntos devem possuir a mesma dimensão!')\n",
    "    dist = 0\n",
    "    for i in range(n):\n",
    "        dist += (lista[i]-x[i])**2\n",
    "    return(np.sqrt(dist))\n",
    "\n",
    "def calc_distances(centroids, amostra):\n",
    "    distances=[]\n",
    "    for i in range(len(centroids)):\n",
    "        dist = euc_distance(centroids[i][0],amostra)\n",
    "        distances.append((dist,centroids[i][-1]))\n",
    "    return(distances)\n",
    "\n",
    "def att_class(centroids,amostra):\n",
    "    distances=calc_distances(centroids,amostra)\n",
    "    distances.sort()\n",
    "    return(distances[0][1])\n",
    "\n",
    "def make_pred(dataset,amostras):\n",
    "    labels = list(dataset.iloc[:,-1].unique())\n",
    "    centroids=calc_centroids(dataset, labels)\n",
    "    preds=[]\n",
    "    for amostra in amostras:\n",
    "        preds.append(att_class(centroids, amostra))\n",
    "    return(preds)"
   ]
  },
  {
   "cell_type": "code",
   "execution_count": 3,
   "metadata": {},
   "outputs": [],
   "source": [
    "path='C:/Users/rhani/Dropbox/Pesquisa/messidor_features.csv'\n",
    "data=pd.read_csv(path,index_col=None)"
   ]
  },
  {
   "cell_type": "code",
   "execution_count": 4,
   "metadata": {},
   "outputs": [],
   "source": [
    "train_set, test_set = splitDataset(data,.5)\n",
    "X_test=[test_set[i][:-1] for i in range(test_set.shape[0])]\n",
    "y_test=[test_set[i][-1] for i in range(test_set.shape[0])]"
   ]
  },
  {
   "cell_type": "code",
   "execution_count": 5,
   "metadata": {},
   "outputs": [],
   "source": [
    "preds=make_pred(data,np.array(X_test))"
   ]
  },
  {
   "cell_type": "code",
   "execution_count": 6,
   "metadata": {},
   "outputs": [],
   "source": [
    "# Making the Confusion Matrix\n",
    "from sklearn.metrics import confusion_matrix\n",
    "cm = confusion_matrix(y_test, preds)\n",
    "sr = 100*(cm.diagonal().sum()/cm.sum())"
   ]
  },
  {
   "cell_type": "code",
   "execution_count": 7,
   "metadata": {},
   "outputs": [
    {
     "name": "stdout",
     "output_type": "stream",
     "text": [
      "Taxa de Acerto: 55.21%\n",
      "Matriz de Confusão: \n",
      " [[233  27]\n",
      " [231  85]]\n"
     ]
    }
   ],
   "source": [
    "print(f'Taxa de Acerto: {sr:0.2f}%')\n",
    "print(f'Matriz de Confusão: \\n {cm}')"
   ]
  }
 ],
 "metadata": {
  "kernelspec": {
   "display_name": "Python 3",
   "language": "python",
   "name": "python3"
  },
  "language_info": {
   "codemirror_mode": {
    "name": "ipython",
    "version": 3
   },
   "file_extension": ".py",
   "mimetype": "text/x-python",
   "name": "python",
   "nbconvert_exporter": "python",
   "pygments_lexer": "ipython3",
   "version": "3.6.5"
  }
 },
 "nbformat": 4,
 "nbformat_minor": 2
}
